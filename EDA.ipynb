{
 "cells": [
  {
   "cell_type": "code",
   "execution_count": null,
   "metadata": {},
   "outputs": [],
   "source": [
    "import pandas as pd\n",
    "import sys\n",
    "sys.path.append('.')\n",
    "from Extract_function.get_video_data import get_video_data"
   ]
  },
  {
   "cell_type": "code",
   "execution_count": 7,
   "metadata": {},
   "outputs": [],
   "source": [
    "video_ids = [\n",
    "    \"nsPdOoooRw8\",\n",
    "    \"ifnNAskSguU\",\n",
    "    \"Ee6bJEJcNFY\"\n",
    "]"
   ]
  },
  {
   "cell_type": "code",
   "execution_count": null,
   "metadata": {},
   "outputs": [
    {
     "name": "stdout",
     "output_type": "stream",
     "text": [
      "\n",
      "Number of items returned: 1\n",
      "\n",
      "Number of items returned: 1\n",
      "\n",
      "Number of items returned: 1\n"
     ]
    }
   ],
   "source": [
    "# Initialize an empty list to store the data for each video.\n",
    "# Each element in this list will be a dictionary containing details for one video.\n",
    "rows = []\n",
    "\n",
    "# Iterate over the list of video IDs.\n",
    "# For each video ID, fetch its data using the get_video_data function.\n",
    "for vid in video_ids:\n",
    "    # Call the get_video_data function (defined in API/get_video_data.py)\n",
    "    # to retrieve snippet and statistics for the current video ID (vid).\n",
    "    # The function returns a dictionary with video details or None if an error occurs.\n",
    "    row = get_video_data(vid)\n",
    "    \n",
    "    # Check if the get_video_data function returned a valid row (i.e., not None).\n",
    "    # This ensures that only successfully fetched video data is processed.\n",
    "    if row:\n",
    "        # If data was successfully fetched (row is not None),\n",
    "        # append the dictionary containing video details to the 'rows' list.\n",
    "        rows.append(row)"
   ]
  },
  {
   "cell_type": "code",
   "execution_count": 9,
   "metadata": {},
   "outputs": [],
   "source": [
    "df = pd.DataFrame(rows)"
   ]
  },
  {
   "cell_type": "code",
   "execution_count": 18,
   "metadata": {},
   "outputs": [],
   "source": [
    "# Convert the 'publishedAt' column to datetime objects.\n",
    "# This is necessary for performing date/time calculations, such as determining the age of the video.\n",
    "df[\"publishedAt\"] = pd.to_datetime(df[\"publishedAt\"])\n",
    "\n",
    "# Get the current timestamp in UTC.\n",
    "# Using UTC ensures consistency, especially if the 'publishedAt' times are also in UTC or can be converted to it.\n",
    "now_utc = pd.Timestamp.now(tz=\"UTC\")\n",
    "\n",
    "# Calculate the age of each video in days.\n",
    "# This is done by subtracting the 'publishedAt' timestamp from the current UTC timestamp.\n",
    "# The `.dt.days` accessor then extracts the difference in full days.\n",
    "df[\"age_in_days\"] = (now_utc - df[\"publishedAt\"]).dt.days\n",
    "\n",
    "# Calculate the engagement rate for each video.\n",
    "# Engagement rate is defined here as the sum of likes and comments,\n",
    "# divided by the total view count, then multiplied by 100 to express it as a percentage.\n",
    "# This metric can help gauge how much interaction a video receives relative to its views.\n",
    "df[\"engagementRate\"] = (df[\"likeCount\"] + df[\"commentCount\"]) / df[\"viewCount\"] * 100"
   ]
  },
  {
   "cell_type": "code",
   "execution_count": 19,
   "metadata": {},
   "outputs": [
    {
     "data": {
      "text/html": [
       "<div>\n",
       "<style scoped>\n",
       "    .dataframe tbody tr th:only-of-type {\n",
       "        vertical-align: middle;\n",
       "    }\n",
       "\n",
       "    .dataframe tbody tr th {\n",
       "        vertical-align: top;\n",
       "    }\n",
       "\n",
       "    .dataframe thead th {\n",
       "        text-align: right;\n",
       "    }\n",
       "</style>\n",
       "<table border=\"1\" class=\"dataframe\">\n",
       "  <thead>\n",
       "    <tr style=\"text-align: right;\">\n",
       "      <th></th>\n",
       "      <th>videoId</th>\n",
       "      <th>title</th>\n",
       "      <th>publishedAt</th>\n",
       "      <th>viewCount</th>\n",
       "      <th>likeCount</th>\n",
       "      <th>commentCount</th>\n",
       "      <th>age_in_days</th>\n",
       "      <th>engagementRate</th>\n",
       "    </tr>\n",
       "  </thead>\n",
       "  <tbody>\n",
       "    <tr>\n",
       "      <th>0</th>\n",
       "      <td>nsPdOoooRw8</td>\n",
       "      <td>Cuidemos las tetas</td>\n",
       "      <td>2023-10-19 12:50:09+00:00</td>\n",
       "      <td>7043</td>\n",
       "      <td>108</td>\n",
       "      <td>1</td>\n",
       "      <td>569</td>\n",
       "      <td>1.547636</td>\n",
       "    </tr>\n",
       "    <tr>\n",
       "      <th>1</th>\n",
       "      <td>ifnNAskSguU</td>\n",
       "      <td>Universal - Añade una Silla esta Navidad</td>\n",
       "      <td>2023-11-21 04:00:23+00:00</td>\n",
       "      <td>2306715</td>\n",
       "      <td>124</td>\n",
       "      <td>0</td>\n",
       "      <td>536</td>\n",
       "      <td>0.005376</td>\n",
       "    </tr>\n",
       "    <tr>\n",
       "      <th>2</th>\n",
       "      <td>Ee6bJEJcNFY</td>\n",
       "      <td>Oriental - La parranda Sí Puedo</td>\n",
       "      <td>2023-12-09 01:40:25+00:00</td>\n",
       "      <td>881112</td>\n",
       "      <td>85</td>\n",
       "      <td>3</td>\n",
       "      <td>518</td>\n",
       "      <td>0.009987</td>\n",
       "    </tr>\n",
       "  </tbody>\n",
       "</table>\n",
       "</div>"
      ],
      "text/plain": [
       "       videoId                                     title  \\\n",
       "0  nsPdOoooRw8                        Cuidemos las tetas   \n",
       "1  ifnNAskSguU  Universal - Añade una Silla esta Navidad   \n",
       "2  Ee6bJEJcNFY           Oriental - La parranda Sí Puedo   \n",
       "\n",
       "                publishedAt  viewCount  likeCount  commentCount  age_in_days  \\\n",
       "0 2023-10-19 12:50:09+00:00       7043        108             1          569   \n",
       "1 2023-11-21 04:00:23+00:00    2306715        124             0          536   \n",
       "2 2023-12-09 01:40:25+00:00     881112         85             3          518   \n",
       "\n",
       "   engagementRate  \n",
       "0        1.547636  \n",
       "1        0.005376  \n",
       "2        0.009987  "
      ]
     },
     "execution_count": 19,
     "metadata": {},
     "output_type": "execute_result"
    }
   ],
   "source": [
    "df.head(3)"
   ]
  },
  {
   "cell_type": "code",
   "execution_count": null,
   "metadata": {},
   "outputs": [
    {
     "name": "stdout",
     "output_type": "stream",
     "text": [
      "✅ DataFrame successfully written to Google Sheet!\n"
     ]
    }
   ],
   "source": [
    "# Import necessary libraries for interacting with Google Sheets and Google Drive\n",
    "import gspread  # For interacting with Google Sheets API\n",
    "from gspread_dataframe import set_with_dataframe  # For easily writing pandas DataFrames to Google Sheets\n",
    "from google.oauth2.service_account import Credentials  # For authenticating using a service account\n",
    "\n",
    "# 1. Define the OAuth scopes and load credentials\n",
    "# SCOPES define the permissions the script will have.\n",
    "# \"https://www.googleapis.com/auth/spreadsheets\" allows reading and writing to Google Sheets.\n",
    "# \"https://www.googleapis.com/auth/drive\" allows managing files in Google Drive (needed by gspread to find/create sheets).\n",
    "SCOPES = [\"https://www.googleapis.com/auth/spreadsheets\",\n",
    "          \"https://www.googleapis.com/auth/drive\"\n",
    "          ]\n",
    "# Load credentials from the service account JSON file.\n",
    "# This file contains the private key and other details needed to authenticate as the service account.\n",
    "# The 'scopes' parameter specifies the permissions requested.\n",
    "creds = Credentials.from_service_account_file(\"service_account.json\", scopes=SCOPES)\n",
    "# Authorize the gspread client with the loaded credentials.\n",
    "# This creates a client object that can be used to interact with Google Sheets.\n",
    "client = gspread.authorize(creds)\n",
    "\n",
    "# 2. Open the Google Sheet\n",
    "# Open the spreadsheet titled \"Video Pulse Data\".\n",
    "# This assumes the service account has access to this spreadsheet.\n",
    "# If the sheet doesn't exist and the service account has Drive creation permissions, it might create one,\n",
    "# but typically you'd ensure the sheet exists and is shared with the service account's email.\n",
    "spreadsheet = client.open(\"Video Pulse Data\")\n",
    "# Select the first worksheet in the spreadsheet (often named 'Sheet1' by default).\n",
    "sheet1      = spreadsheet.sheet1\n",
    "\n",
    "# 3. Clear any old data from the selected worksheet (optional step)\n",
    "# This ensures that the sheet only contains the new data being written.\n",
    "# If you want to append data or update specific ranges, you would skip or modify this step.\n",
    "sheet1.clear()\n",
    "\n",
    "# 4. Dump your DataFrame into the selected worksheet\n",
    "# The `set_with_dataframe` function from `gspread_dataframe` writes the entire pandas DataFrame `df`\n",
    "# to the specified worksheet `sheet1`, starting from cell A1 by default.\n",
    "# It includes headers and index based on its default behavior (which can be customized).\n",
    "set_with_dataframe(sheet1, df)\n",
    "\n",
    "# Print a confirmation message to the console indicating success.\n",
    "print(\"DataFrame successfully written to Google Sheet!\")\n"
   ]
  }
 ],
 "metadata": {
  "language_info": {
   "name": "python"
  }
 },
 "nbformat": 4,
 "nbformat_minor": 2
}
